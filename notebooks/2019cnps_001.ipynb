{
  "nbformat": 4,
  "nbformat_minor": 0,
  "metadata": {
    "colab": {
      "name": "Untitled20.ipynb",
      "version": "0.3.2",
      "provenance": [],
      "private_outputs": true,
      "include_colab_link": true
    },
    "kernelspec": {
      "name": "python3",
      "display_name": "Python 3"
    }
  },
  "cells": [
    {
      "cell_type": "markdown",
      "metadata": {
        "id": "view-in-github",
        "colab_type": "text"
      },
      "source": [
        "<a href=\"https://colab.research.google.com/github/ShinAsakawa/2019cnps/blob/master/notebooks/2019cnps_001.ipynb\" target=\"_parent\"><img src=\"https://colab.research.google.com/assets/colab-badge.svg\" alt=\"Open In Colab\"/></a>"
      ]
    },
    {
      "cell_type": "code",
      "metadata": {
        "id": "fPjrQPnDGr9e",
        "colab_type": "code",
        "colab": {}
      },
      "source": [
        "import numpy as np\n",
        "from keras.applications.resnet50 import ResNet50\n",
        "from keras.preprocessing import image\n",
        "from keras.applications.resnet50 import preprocess_input, decode_predictions\n",
        "# この行はコメントです。プログラムの実行には無関係です。コメントは作成時の備忘録，メモ書き\n",
        "# などのために用いられます。Python ではプログラム中に # があると以降その行末までをコメント\n",
        "# と見なし無視されます。\n",
        "# 上の 1 行目から 4 行目まではプログラムの実行に必要なライブラリを輸入 `import` しています\n",
        "\n",
        "def recognize(image_path='cat.jpg'):\n",
        "    \"\"\"\n",
        "    recoginize 関数の定義。\n",
        "    \n",
        "    Python では `字下げ`, `インデンテーション` によってプログラムのまとまり\n",
        "    が決まります。従ってこの文は一段, 空白 4 つ分の字下げが行われているので，\n",
        "    10 行目の def recognize で始まる関数定義内のブロックであることが分かりま\n",
        "    す。\n",
        "    python では 3連引用符で囲まれた部分も実行時には無視されます。\n",
        "    \"\"\"\n",
        "    model = ResNet50(weights='imagenet')\n",
        "    img = image.load_img(image_path, target_size=(224, 224))\n",
        "    x = image.img_to_array(img)\n",
        "    x = np.expand_dims(x, axis=0)\n",
        "    x = preprocess_input(x)\n",
        "\n",
        "    preds = model.predict(x)\n",
        "    p = decode_predictions(preds)\n",
        "    for pp in p:\n",
        "        for pp2 in pp:\n",
        "            print('候補 {0}: 確信度{1:.03f}'.format(pp2[1],pp2[2]))"
      ],
      "execution_count": 0,
      "outputs": []
    },
    {
      "cell_type": "code",
      "metadata": {
        "id": "Ah6y41JhG08S",
        "colab_type": "code",
        "colab": {}
      },
      "source": [
        "!wget https://cdn-ak.f.st-hatena.com/images/fotolife/u/uralatokyo/20170125/20170125153458.jpg\n",
        "# `!wget` は外部コマンドで，引数でしていした URL をダウンロードする命令です。\n",
        "# !wget に続いて一つ以上の空白を挿入し，続けて URL をタイプしてから\n",
        "# シフトキーを押しながらエンターキーをタイプしてください。\n",
        "# !wget に続けて任意の URL を入力すれば，お望みのデータをダウンロードできます\n",
        "# 行頭に ! を入れ忘れないように注意してください。"
      ],
      "execution_count": 0,
      "outputs": []
    },
    {
      "cell_type": "code",
      "metadata": {
        "id": "6OdUpUACG6Us",
        "colab_type": "code",
        "colab": {}
      },
      "source": [
        "import matplotlib.pyplot as plt\n",
        "%matplotlib inline\n",
        "from PIL import Image\n",
        "plt.imshow(Image.open('20170125153458.jpg'))"
      ],
      "execution_count": 0,
      "outputs": []
    },
    {
      "cell_type": "code",
      "metadata": {
        "id": "fgg4HDy7G92m",
        "colab_type": "code",
        "colab": {}
      },
      "source": [
        "recognize('20170125153458.jpg')\n",
        "# 認識結果の表示"
      ],
      "execution_count": 0,
      "outputs": []
    }
  ]
}